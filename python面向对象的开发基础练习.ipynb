{
 "cells": [
  {
   "cell_type": "markdown",
   "metadata": {},
   "source": [
    "【python面向对象开发基础】"
   ]
  },
  {
   "cell_type": "code",
   "execution_count": 8,
   "metadata": {},
   "outputs": [
    {
     "name": "stdout",
     "output_type": "stream",
     "text": [
      "__annotations__\n",
      "__call__\n",
      "__class__\n",
      "__closure__\n",
      "__code__\n",
      "__defaults__\n",
      "__delattr__\n",
      "__dict__\n",
      "__dir__\n",
      "__doc__\n",
      "__eq__\n",
      "__format__\n",
      "__ge__\n",
      "__get__\n",
      "__getattribute__\n",
      "__globals__\n",
      "__gt__\n",
      "__hash__\n",
      "__init__\n",
      "__init_subclass__\n",
      "__kwdefaults__\n",
      "__le__\n",
      "__lt__\n",
      "__module__\n",
      "__name__\n",
      "__ne__\n",
      "__new__\n",
      "__qualname__\n",
      "__reduce__\n",
      "__reduce_ex__\n",
      "__repr__\n",
      "__setattr__\n",
      "__sizeof__\n",
      "__str__\n",
      "__subclasshook__\n",
      "Tom爱吃鱼\n",
      "Lazycat是一只yellow猫\n"
     ]
    }
   ],
   "source": [
    "'''\n",
    "###定义一个类\n",
    "class 类名:\n",
    "      def 方法1(self,参数列表):\n",
    "          pass\n",
    "      def 方法2(self,参数列表):\n",
    "          pass\n",
    "\n",
    "###创建对象\n",
    "对象变量 = 类名()\n",
    "'''\n",
    "### %x：十六进制  ;  %d：十进制\n",
    "\n",
    "def demo():\n",
    "    '''这是一个测试函数'''\n",
    "    print(\"hello python\")\n",
    "for item in dir(demo):\n",
    "    print(item)\n",
    "#新建一个类\n",
    "class Cat:\n",
    "    def __init__(self,name,age,new_color):\n",
    "        self.name = name\n",
    "        self.age = age\n",
    "        self.color = new_color\n",
    "    def __del__(self):\n",
    "        print('$s我去了'%self.name)\n",
    "    def eat(self):\n",
    "        print(\"%s爱吃鱼\" %self.name)\n",
    "    def drink(self):\n",
    "        print(\"%s爱喝水\" %self.name)\n",
    "    def pcolor(self):\n",
    "        print('%s是一只%s猫' %(self.name,self.color))\n",
    "#创建猫对象\n",
    "tom = Cat('Tom',3,'purple')\n",
    "lazy_cat = Cat('Lazycat',5,'yellow')\n",
    "tom.eat()\n",
    "lazy_cat.pcolor()"
   ]
  },
  {
   "cell_type": "code",
   "execution_count": 3,
   "metadata": {},
   "outputs": [],
   "source": [
    "##内置方法和属性\n",
    "###__del__方法  对象呗从内存中销毁之前，会自动调用此方法\n",
    "###__str__方法 返回对象的描述信息，print函数输出使用"
   ]
  },
  {
   "cell_type": "code",
   "execution_count": 25,
   "metadata": {},
   "outputs": [
    {
     "name": "stdout",
     "output_type": "stream",
     "text": [
      "--------------------------------------------------\n",
      "TOM我来了\n",
      "TOM我去了\n",
      "TOM我去了\n",
      "**************************************************\n"
     ]
    }
   ],
   "source": [
    "class Cat:\n",
    "    def __init__(self,new_name):\n",
    "        self.name = new_name\n",
    "        print('%s我来了'%self.name)\n",
    "    def __del__(self):\n",
    "        print('%s我去了'%self.name)\n",
    "print('-'*50)\n",
    "tom = Cat('TOM')\n",
    "del tom\n",
    "print('*'*50)"
   ]
  },
  {
   "cell_type": "markdown",
   "metadata": {},
   "source": [
    "#__str__内置方法：\n",
    "#在python中，使用print函数输出对象变量时，默认情况下，会输出这个变量引用的对象是由哪一个类创建的对象，以及在内存中的地址（16进制）\n",
    "#如果我们在开发中，希望使用print输出对象变量时，能够打印自定义的内容，就可以利用__str__这个内置函数了"
   ]
  },
  {
   "cell_type": "markdown",
   "metadata": {},
   "source": [
    "【注意】__str__方法必须返回一个字符串\n"
   ]
  },
  {
   "cell_type": "code",
   "execution_count": 31,
   "metadata": {},
   "outputs": [
    {
     "name": "stdout",
     "output_type": "stream",
     "text": [
      "TOM我来了\n",
      "我是小猫TOM\n"
     ]
    }
   ],
   "source": [
    "class Cat:\n",
    "    def __init__(self,new_name):\n",
    "        self.name = new_name\n",
    "        print('%s我来了'%self.name)\n",
    "    #def __del__(self):\n",
    "        #print('%s我去了'%self.name)\n",
    "    def __str__(self):\n",
    "        #必须返回一个字符串\n",
    "        return '我是小猫%s'%self.name\n",
    "tom = Cat('TOM')\n",
    "print(tom)"
   ]
  },
  {
   "cell_type": "markdown",
   "metadata": {},
   "source": [
    ">面向对象封装案例"
   ]
  },
  {
   "cell_type": "code",
   "execution_count": 36,
   "metadata": {},
   "outputs": [
    {
     "name": "stdout",
     "output_type": "stream",
     "text": [
      "我的名字叫小明,体重为75.00公斤\n"
     ]
    }
   ],
   "source": [
    "class Person:\n",
    "    def __init__(self,name,weight):\n",
    "        self.name=name\n",
    "        self.weight=weight\n",
    "    def __str__(self):\n",
    "        return \"我的名字叫%s,体重为%.2f公斤\"%(self.name,self.weight)\n",
    "    def run(self):\n",
    "        \n",
    "    def eat(self):\n",
    "        pass\n",
    "xiaoming = Person(\"小明\",75.0)\n",
    "xiaomei = Person(\"小美\",45.0)\n",
    "\n",
    "print(xiaoming)"
   ]
  },
  {
   "cell_type": "code",
   "execution_count": 12,
   "metadata": {},
   "outputs": [
    {
     "name": "stdout",
     "output_type": "stream",
     "text": [
      "<class '__main__.HouseItem'>\n",
      "[席梦思] 占地 4.00\n",
      "[衣柜] 占地 2.00\n",
      "[桌子] 占地 1.50\n"
     ]
    }
   ],
   "source": [
    "class HouseItem:\n",
    "    def __init__(self,name,area):\n",
    "        self.name=name\n",
    "        self.area=area\n",
    "    def __str__(self):\n",
    "        return \"[%s] 占地 %.2f\"%(self.name,self.area)\n",
    "bed = HouseItem(\"席梦思\",4)\n",
    "chest=HouseItem(\"衣柜\",2)\n",
    "table=HouseItem(\"桌子\",1.5)\n",
    "print(HouseItem) \n",
    "print(bed)\n",
    "print(chest)\n",
    "print(table)"
   ]
  },
  {
   "cell_type": "code",
   "execution_count": 15,
   "metadata": {},
   "outputs": [],
   "source": [
    "class HouseItem:\n",
    "    def __init__(self,name,area):\n",
    "        self.name=name\n",
    "        self.area=area\n",
    "    def __str__(self):\n",
    "        return \"[%s] 占地 %.2f\"%(self.name,self.area)\n",
    "class House:\n",
    "    def __init__(self,house_type,area):\n",
    "        self.house_type=house_type\n",
    "        self.area=area\n",
    "        \n",
    "        #剩余面积\n",
    "        self.free_area=area #因为是初始化函数，所以这个地方定义的是房子剩余面积的初始值，即总面积\n",
    "        \n",
    "        #家具名称列表\n",
    "        self.item_list=[]\n",
    "    def __str__(self):\n",
    "        return (\"户型：[%s]\\n总面积:%.2f[剩余面积:%s]\\n家具:%s\"\n",
    "                % (self.house_type, self.area,\n",
    "                   self.free_area,(item for item in self.item_list)))\n",
    "    "
   ]
  },
  {
   "cell_type": "code",
   "execution_count": 23,
   "metadata": {},
   "outputs": [
    {
     "name": "stdout",
     "output_type": "stream",
     "text": [
      "要添加 [席梦思] 占地 40.00\n",
      " [席梦思] 已添加到房子中\n",
      "要添加 [衣柜] 占地 20.00\n",
      " [衣柜] 已添加到房子中\n",
      "要添加 [桌子] 占地 1.50\n",
      "家具 [桌子] 面积已经大于了房子剩余面积，无法添加到房子中\n",
      "\n",
      "户型：[两室一厅]\n",
      "总面积:60.00[剩余面积:0]\n",
      "家具:['席梦思', '衣柜']\n"
     ]
    }
   ],
   "source": [
    "#创建家具类\n",
    "class HouseItem:\n",
    "    def __init__(self, name, area):\n",
    "        self.name = name\n",
    "        self.area = area\n",
    "\n",
    "    def __str__(self):\n",
    "        return \"[%s] 占地 %.2f\" % (self.name, self.area)\n",
    "#创建家具对象\n",
    "bed = HouseItem(\"席梦思\",40)\n",
    "chest=HouseItem(\"衣柜\",20)\n",
    "table=HouseItem(\"桌子\",1.5)\n",
    "#创建房子类\n",
    "class House:\n",
    "    def __init__(self, house_type, area):\n",
    "        self.house_type = house_type\n",
    "        self.area = area\n",
    "\n",
    "        # 剩余面积\n",
    "        self.free_area = area  # 因为是初始化函数，所以这个地方定义的是房子剩余面积的初始值，即总面积\n",
    "\n",
    "        # 家具名称列表\n",
    "        self.item_list = []\n",
    "\n",
    "    def __str__(self):\n",
    "        return (\"户型：[%s]\\n总面积:%.2f[剩余面积:%s]\\n家具:%s\"\n",
    "                % (self.house_type, self.area,\n",
    "                   self.free_area,self.item_list))\n",
    "    def add_item(self,item):\n",
    "        print(\"要添加 %s\"%(item))\n",
    "        #1.判断家具的面积\n",
    "        if item.area > self.free_area:\n",
    "            print(\"家具 [%s] 面积已经大于了房子剩余面积，无法添加到房子中\"%item.name)\n",
    "            return\n",
    "        #2.将家具的名称添加到房子中\n",
    "        self.item_list.append(item.name)\n",
    "        #3.计算剩余面积\n",
    "        self.free_area -= item.area\n",
    "        print(\" [%s] 已添加到房子中\"%item.name)\n",
    "#创建房子对象\n",
    "my_home=House(\"两室一厅\",60)\n",
    "my_home.add_item(bed)\n",
    "my_home.add_item(chest)\n",
    "my_home.add_item(table)\n",
    "print(\"\")\n",
    "print(my_home)"
   ]
  },
  {
   "cell_type": "code",
   "execution_count": null,
   "metadata": {},
   "outputs": [],
   "source": []
  },
  {
   "cell_type": "code",
   "execution_count": null,
   "metadata": {},
   "outputs": [],
   "source": []
  },
  {
   "cell_type": "code",
   "execution_count": null,
   "metadata": {},
   "outputs": [],
   "source": []
  },
  {
   "cell_type": "code",
   "execution_count": null,
   "metadata": {},
   "outputs": [],
   "source": []
  },
  {
   "cell_type": "code",
   "execution_count": null,
   "metadata": {},
   "outputs": [],
   "source": []
  },
  {
   "cell_type": "code",
   "execution_count": null,
   "metadata": {},
   "outputs": [],
   "source": []
  },
  {
   "cell_type": "code",
   "execution_count": null,
   "metadata": {},
   "outputs": [],
   "source": []
  },
  {
   "cell_type": "code",
   "execution_count": null,
   "metadata": {},
   "outputs": [],
   "source": []
  },
  {
   "cell_type": "code",
   "execution_count": null,
   "metadata": {},
   "outputs": [],
   "source": []
  },
  {
   "cell_type": "code",
   "execution_count": null,
   "metadata": {},
   "outputs": [],
   "source": []
  },
  {
   "cell_type": "code",
   "execution_count": null,
   "metadata": {},
   "outputs": [],
   "source": []
  },
  {
   "cell_type": "code",
   "execution_count": null,
   "metadata": {},
   "outputs": [],
   "source": []
  },
  {
   "cell_type": "code",
   "execution_count": null,
   "metadata": {},
   "outputs": [],
   "source": []
  },
  {
   "cell_type": "code",
   "execution_count": null,
   "metadata": {},
   "outputs": [],
   "source": []
  },
  {
   "cell_type": "code",
   "execution_count": null,
   "metadata": {},
   "outputs": [],
   "source": []
  },
  {
   "cell_type": "code",
   "execution_count": null,
   "metadata": {},
   "outputs": [],
   "source": []
  },
  {
   "cell_type": "code",
   "execution_count": null,
   "metadata": {},
   "outputs": [],
   "source": []
  },
  {
   "cell_type": "code",
   "execution_count": null,
   "metadata": {},
   "outputs": [],
   "source": []
  },
  {
   "cell_type": "code",
   "execution_count": null,
   "metadata": {},
   "outputs": [],
   "source": []
  },
  {
   "cell_type": "code",
   "execution_count": null,
   "metadata": {},
   "outputs": [],
   "source": []
  },
  {
   "cell_type": "code",
   "execution_count": null,
   "metadata": {},
   "outputs": [],
   "source": []
  },
  {
   "cell_type": "code",
   "execution_count": null,
   "metadata": {},
   "outputs": [],
   "source": []
  },
  {
   "cell_type": "code",
   "execution_count": null,
   "metadata": {},
   "outputs": [],
   "source": []
  },
  {
   "cell_type": "code",
   "execution_count": null,
   "metadata": {},
   "outputs": [],
   "source": []
  },
  {
   "cell_type": "code",
   "execution_count": null,
   "metadata": {},
   "outputs": [],
   "source": []
  },
  {
   "cell_type": "code",
   "execution_count": null,
   "metadata": {},
   "outputs": [],
   "source": []
  },
  {
   "cell_type": "code",
   "execution_count": null,
   "metadata": {},
   "outputs": [],
   "source": []
  },
  {
   "cell_type": "code",
   "execution_count": null,
   "metadata": {},
   "outputs": [],
   "source": []
  },
  {
   "cell_type": "code",
   "execution_count": null,
   "metadata": {},
   "outputs": [],
   "source": []
  },
  {
   "cell_type": "code",
   "execution_count": null,
   "metadata": {},
   "outputs": [],
   "source": []
  },
  {
   "cell_type": "code",
   "execution_count": null,
   "metadata": {},
   "outputs": [],
   "source": []
  },
  {
   "cell_type": "code",
   "execution_count": null,
   "metadata": {},
   "outputs": [],
   "source": []
  },
  {
   "cell_type": "code",
   "execution_count": null,
   "metadata": {},
   "outputs": [],
   "source": []
  },
  {
   "cell_type": "code",
   "execution_count": null,
   "metadata": {},
   "outputs": [],
   "source": []
  },
  {
   "cell_type": "code",
   "execution_count": null,
   "metadata": {},
   "outputs": [],
   "source": []
  },
  {
   "cell_type": "code",
   "execution_count": null,
   "metadata": {},
   "outputs": [],
   "source": []
  },
  {
   "cell_type": "code",
   "execution_count": null,
   "metadata": {},
   "outputs": [],
   "source": []
  },
  {
   "cell_type": "code",
   "execution_count": null,
   "metadata": {},
   "outputs": [],
   "source": []
  },
  {
   "cell_type": "code",
   "execution_count": null,
   "metadata": {},
   "outputs": [],
   "source": []
  },
  {
   "cell_type": "code",
   "execution_count": null,
   "metadata": {},
   "outputs": [],
   "source": []
  },
  {
   "cell_type": "code",
   "execution_count": null,
   "metadata": {},
   "outputs": [],
   "source": []
  },
  {
   "cell_type": "code",
   "execution_count": null,
   "metadata": {},
   "outputs": [],
   "source": []
  },
  {
   "cell_type": "code",
   "execution_count": null,
   "metadata": {},
   "outputs": [],
   "source": []
  },
  {
   "cell_type": "code",
   "execution_count": null,
   "metadata": {},
   "outputs": [],
   "source": []
  },
  {
   "cell_type": "code",
   "execution_count": null,
   "metadata": {},
   "outputs": [],
   "source": []
  },
  {
   "cell_type": "code",
   "execution_count": null,
   "metadata": {},
   "outputs": [],
   "source": []
  },
  {
   "cell_type": "code",
   "execution_count": null,
   "metadata": {},
   "outputs": [],
   "source": []
  },
  {
   "cell_type": "code",
   "execution_count": null,
   "metadata": {},
   "outputs": [],
   "source": []
  }
 ],
 "metadata": {
  "kernelspec": {
   "display_name": "Python 3",
   "language": "python",
   "name": "python3"
  },
  "language_info": {
   "codemirror_mode": {
    "name": "ipython",
    "version": 3
   },
   "file_extension": ".py",
   "mimetype": "text/x-python",
   "name": "python",
   "nbconvert_exporter": "python",
   "pygments_lexer": "ipython3",
   "version": "3.6.5"
  }
 },
 "nbformat": 4,
 "nbformat_minor": 2
}
