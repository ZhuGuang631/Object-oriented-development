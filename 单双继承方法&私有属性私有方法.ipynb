{
 "cells": [
  {
   "cell_type": "markdown",
   "metadata": {},
   "source": [
    "# 继承 \n",
    "实现代码的重复使用，相同的代码不需要重复的编写"
   ]
  },
  {
   "cell_type": "markdown",
   "metadata": {},
   "source": [
    "#  一、单继承：\n",
    "    class 子类名（父类名）：\n",
    "        pass"
   ]
  },
  {
   "cell_type": "code",
   "execution_count": 8,
   "metadata": {},
   "outputs": [
    {
     "name": "stdout",
     "output_type": "stream",
     "text": [
      "吃\n",
      "睡\n",
      "汪汪叫\n"
     ]
    }
   ],
   "source": [
    "class Animal:\n",
    "    def eat(self):\n",
    "        print('吃')\n",
    "    def drink(self):\n",
    "        print('喝')\n",
    "    def run(self):\n",
    "        print('跑')\n",
    "    def sleep(self):\n",
    "        print('睡')\n",
    "#wangcai = Animal()\n",
    "class Dog(Animal):     #直接在子类中享受父类的方法和属性\n",
    "    def bark(self):\n",
    "        print('汪汪叫')\n",
    "wangcai = Dog()     \n",
    "\n",
    "wangcai.eat()\n",
    "wangcai.sleep()\n",
    "wangcai.bark()\n",
    "##  Dog类 是Animal类的子类， Animal类是Dog类的父类 ， Dog类从Animal类中继承\n",
    "##  Dog类 是Animal类的派生类， Animal类是Dog类的基类， Dog类从Animal类中派生"
   ]
  },
  {
   "cell_type": "markdown",
   "metadata": {},
   "source": [
    "方法的重写：父类的方法实现不能满足子类的方法需求"
   ]
  },
  {
   "cell_type": "code",
   "execution_count": 1,
   "metadata": {},
   "outputs": [],
   "source": [
    "# 只需在子类中重新编写代码即可"
   ]
  },
  {
   "cell_type": "markdown",
   "metadata": {},
   "source": [
    "对父类方法进行 扩展"
   ]
  },
  {
   "cell_type": "markdown",
   "metadata": {},
   "source": [
    "######如果在开发中，子类的方法实现 中 包含 父类的方法实现 ， 也即 父类的方法实现是子类方法实现的一部分，就可以使用扩展的方式\n",
    "#####1.在子类中重写父类的方法\n",
    "#####2.在需要的位置使用 super().父类方法 来调用父类方法的执行\n",
    "#####3.代码其他的位置针对子类的需求，编写 子类特有的代码实现。"
   ]
  },
  {
   "cell_type": "markdown",
   "metadata": {},
   "source": [
    "关于super()"
   ]
  },
  {
   "cell_type": "markdown",
   "metadata": {},
   "source": [
    "#1.在python中，super是一个特殊的类\n",
    "#2. super()就是使用super这个类创建出来的一个对象\n",
    "#3. 最常使用的场景就是在重写父类方法时，调用 在父类中封装的方法实现"
   ]
  },
  {
   "cell_type": "code",
   "execution_count": null,
   "metadata": {},
   "outputs": [],
   "source": [
    "class Animal:\n",
    "    def eat(self):\n",
    "        print('吃')\n",
    "    def drink(self):\n",
    "        print('喝')\n",
    "    def run(self):\n",
    "        print('跑')\n",
    "    def sleep(self):\n",
    "        print('睡')\n",
    "#wangcai = Animal()\n",
    "class Dog(Animal):     #直接在子类中享受父类的方法和属性\n",
    "    def bark(self):\n",
    "        print('汪汪叫')\n",
    "    def run(self):\n",
    "        # 1.针对子类特有的需求编写代码\n",
    "        print('四条腿跑')\n",
    "        # 2.使用 super(). 调用原本在父类中封装的代码\n",
    "        super().run()\n",
    "        # 3. 增加其他子类的代码\n",
    "        print('%%$$$^&*#')\n"
   ]
  },
  {
   "cell_type": "markdown",
   "metadata": {},
   "source": [
    "# 1.父类的 私有属性 和 私有方法"
   ]
  },
  {
   "cell_type": "markdown",
   "metadata": {},
   "source": [
    "#1.子类对象 不能 在自己的方法内部， 直接 访问父类的私有属性或自私有方法\n",
    "#2.子类对象 可以通过 父类的 公有方法 间接 访问到 私有属性或私有方法\n",
    "   #私有属性、方法是对象的隐私，不对外公开， 外界以及子类都不能访问\n",
    "   #私有属性、方法通常用来做一些内部的事情"
   ]
  },
  {
   "cell_type": "code",
   "execution_count": 5,
   "metadata": {},
   "outputs": [
    {
     "name": "stdout",
     "output_type": "stream",
     "text": [
      "<__main__.B object at 0x0000020E0369F788>\n"
     ]
    }
   ],
   "source": [
    "class A:\n",
    "    def __init__(self):\n",
    "        self.num1 = 100\n",
    "        self.__num2 = 200    #这是一个私有属性\n",
    "    def __text(self):        #这是一个私有方法\n",
    "        print(\"私有方法 %d %d\"%(self.num1,self.__num2))\n",
    "class B(A):\n",
    "    def demo(self):\n",
    "        #1.访问父类的私有属性\n",
    "        #print(\"访问父类的私有属性%d\" % self.__num2)\n",
    "        #2.调用父类的私有方法                                       #这些都访问不了！！\n",
    "        #self.__text()\n",
    "        pass\n",
    "    pass\n",
    "# 创建一个子类对象\n",
    "b = B()\n",
    "print(b)\n",
    "#在外界不能访问对象的私有属性或私有方法\n",
    "#print(b.__num2)"
   ]
  },
  {
   "cell_type": "markdown",
   "metadata": {},
   "source": [
    "通过父类方法可以间接访问父类的公有属性和公有方法"
   ]
  },
  {
   "cell_type": "markdown",
   "metadata": {},
   "source": []
  },
  {
   "cell_type": "markdown",
   "metadata": {},
   "source": [
    "# 多继承\n",
    "    class 子类名（父类名1 ，父类名2）：\n",
    "         pass"
   ]
  },
  {
   "cell_type": "markdown",
   "metadata": {},
   "source": [
    "#1.子类 可以拥有多个父类，并且具有所有父类的属性和方法\n",
    "#2.开发时，应该尽量避免这种容易产生混淆的情况！  如果父类中含有名字相同的方法，则应该避免使用多继承"
   ]
  },
  {
   "cell_type": "code",
   "execution_count": 17,
   "metadata": {},
   "outputs": [
    {
     "name": "stdout",
     "output_type": "stream",
     "text": [
      "A --- demo方法\n",
      "A --- text方法\n",
      "B --- demo方法\n",
      "B --- text方法\n",
      "(<class '__main__.C'>, <class '__main__.A'>, <class '__main__.B'>, <class 'object'>)\n",
      "(<class '__main__.D'>, <class '__main__.B'>, <class '__main__.A'>, <class 'object'>)\n",
      "(<class '__main__.A'>, <class 'object'>)\n"
     ]
    }
   ],
   "source": [
    "class A():\n",
    "    def demo(self):\n",
    "        print(\"A --- demo方法\")\n",
    "    def text(self):\n",
    "        print(\"A --- text方法\")\n",
    "class B():\n",
    "    def demo(self):\n",
    "        print(\"B --- demo方法\")\n",
    "    def text(self):\n",
    "        print(\"B --- text方法\")\n",
    "class C(A,B):\n",
    "    pass\n",
    "class D(B,A):\n",
    "    pass\n",
    "\n",
    "c = C()\n",
    "d = D()\n",
    "\n",
    "c.demo()      # 多继承使用的方法，在计算机内部有一定的规则，不仅仅是换一下继承顺序那么简单\n",
    "c.text()\n",
    "d.demo()        \n",
    "d.text()\n",
    "\n",
    "print(C.__mro__)   # 方法搜索顺序的内置方法  __mro__ :\" method resolution order \"\n",
    "print(D.__mro__)\n",
    "print(A.__mro__)\n"
   ]
  },
  {
   "cell_type": "markdown",
   "metadata": {},
   "source": [
    "新式类与经典（旧式）类"
   ]
  },
  {
   "cell_type": "markdown",
   "metadata": {},
   "source": [
    "#object 是 python 为所有对象提供的基类，提供有一些内置的属性和方法，可以使用dir函数查看\n",
    "#新式类：以object为基类的类， 推荐使用\n",
    "#旧式类：不以object为基类的类，不推荐使用\n",
    "#在今后定义类时，如果没有父类，建议统一继承基类object"
   ]
  },
  {
   "cell_type": "markdown",
   "metadata": {},
   "source": [
    "# 多态\n",
    "让不同的子类对象，调用相同的父类方法"
   ]
  },
  {
   "cell_type": "code",
   "execution_count": 11,
   "metadata": {},
   "outputs": [
    {
     "name": "stdout",
     "output_type": "stream",
     "text": [
      "小明 和 旺财 快乐的玩耍\n",
      "旺财 蹦蹦跳跳的玩耍\n",
      "小明 和 飞天旺财 快乐的玩耍\n",
      "飞天旺财 飞到天上去玩耍\n"
     ]
    }
   ],
   "source": [
    "class Dog(object):\n",
    "    def __init__(self,name):\n",
    "        self.name = name\n",
    "    def game(self):\n",
    "        print(\"%s 蹦蹦跳跳的玩耍\" %self.name)\n",
    "class XiaotianDog(Dog):\n",
    "    def game(self):\n",
    "        print(\"%s 飞到天上去玩耍\"%self.name)\n",
    "class Person(object):\n",
    "    def __init__(self,name):\n",
    "        self.name = name\n",
    "    def game_with_dog(self,dog):\n",
    "        print(\"%s 和 %s 快乐的玩耍\"%(self.name,dog.name))\n",
    "        dog.game()\n",
    "#1.创建一个两个狗对象\n",
    "wangcai = Dog(\"旺财\")\n",
    "xiaotianquan = XiaotianDog(\"飞天旺财\")\n",
    "#2.创建一个小明对象\n",
    "xiaoming = Person(\"小明\")\n",
    "#3.让小明调用和狗玩的方法\n",
    "xiaoming.game_with_dog(wangcai)\n",
    "xiaoming.game_with_dog(xiaotianquan)"
   ]
  },
  {
   "cell_type": "markdown",
   "metadata": {},
   "source": []
  }
 ],
 "metadata": {
  "kernelspec": {
   "display_name": "Python 3",
   "language": "python",
   "name": "python3"
  },
  "language_info": {
   "codemirror_mode": {
    "name": "ipython",
    "version": 3
   },
   "file_extension": ".py",
   "mimetype": "text/x-python",
   "name": "python",
   "nbconvert_exporter": "python",
   "pygments_lexer": "ipython3",
   "version": "3.7.6"
  }
 },
 "nbformat": 4,
 "nbformat_minor": 4
}
